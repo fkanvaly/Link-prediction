{
 "cells": [
  {
   "cell_type": "code",
   "execution_count": 2,
   "metadata": {},
   "outputs": [
    {
     "name": "stderr",
     "output_type": "stream",
     "text": [
      "[nltk_data] Downloading package punkt to /home/maza/nltk_data...\n",
      "[nltk_data]   Package punkt is already up-to-date!\n",
      "[nltk_data] Downloading package stopwords to /home/maza/nltk_data...\n",
      "[nltk_data]   Package stopwords is already up-to-date!\n"
     ]
    }
   ],
   "source": [
    "from sklearn.feature_extraction.text import TfidfVectorizer\n",
    "import codecs\n",
    "import nltk\n",
    "import numpy as np\n",
    "nltk.download('punkt')\n",
    "nltk.download('stopwords')\n",
    "\n",
    "from nltk.corpus import stopwords\n",
    "\n",
    "a = set(stopwords.words(\"english\")) |set(stopwords.words(\"french\")) ## union of english and french stop_words\n",
    "\n"
   ]
  },
  {
   "cell_type": "code",
   "execution_count": 3,
   "metadata": {},
   "outputs": [],
   "source": [
    "good_format=[] ## stock text that can be open with \"utf-8\" encoding\n",
    "nb_document=33226\n",
    "for i in range(nb_document):\n",
    "    try :\n",
    "        r_emplacement=\"/home/maza/Workspace/INF554/kaggle/node_information/text/\"+str(i)+\".txt\"\n",
    "\n",
    "        document=codecs.open(r_emplacement,\"r\",encoding=\"utf-8\")\n",
    "\n",
    "        name=str(i)+\"_important.txt\" ##renamed the file \"formername+important.txt\"\n",
    "        w_emplacement=\"/home/maza/Workspace/INF554/kaggle/node_information/without_noise/\"+name\n",
    "        text_file = codecs.open(w_emplacement, \"w\",encoding=\"utf-8\")\n",
    "        noise=[\"Pour paramétrer :\",\"cookies\",\"COOKIES\",\"droit d'auteur\",\"Newsletter\",\"newsletter\"] ## We remove this noise\n",
    "        noise_bool=False\n",
    "        with open(r_emplacement,\"r\",encoding=\"utf-8\") as f:\n",
    "            cmpt=0\n",
    "            for line in f :\n",
    "                #print(line)\n",
    "                if not line.strip():continue \n",
    "                if(cmpt>10):\n",
    "                    for n in noise :\n",
    "                        if(n in line):\n",
    "\n",
    "                            noise_bool=True\n",
    "                            break ;\n",
    "                if(noise_bool==True):\n",
    "                    break;\n",
    "                text_file.write(line)\n",
    "                cmpt+=1\n",
    "        text_file.close()        \n",
    "\n",
    "    except:\n",
    "        good_format.append(i)\n",
    "        "
   ]
  },
  {
   "cell_type": "code",
   "execution_count": null,
   "metadata": {},
   "outputs": [],
   "source": [
    "fail=set([x for x in np.arange(nb_document)]).difference(set(good_format)) ## id of doxuments wich are not in good_format"
   ]
  },
  {
   "cell_type": "code",
   "execution_count": null,
   "metadata": {},
   "outputs": [],
   "source": [
    "## We will open on fail_document with encoding=\"iso-8859-1\"\n",
    "for i in fail:\n",
    "        r_emplacement=\"/home/maza/Workspace/INF554/kaggle/node_information/text/\"+str(i)+\".txt\"\n",
    "\n",
    "        document=codecs.open(r_emplacement,\"r\",encoding=\"iso-8859-1\")\n",
    "        name=str(i)+\"_important.txt\" ##renamed the file \"formername+important.txt\"\n",
    "        w_emplacement=\"/home/maza/Workspace/INF554/kaggle/node_information/without_noise/\"+name\n",
    "        text_file = codecs.open(w_emplacement, \"w\",encoding=\"iso-8859-1\")\n",
    "        noise=[\"Pour paramétrer :\",\"cookies\",\"COOKIES\",\"droit d'auteur\",\"Newsletter\",\"newsletter\"]\n",
    "        noise_bool=False\n",
    "        with open(r_emplacement,\"r\",encoding=\"iso-8859-1\") as f:\n",
    "            cmpt=0\n",
    "            for line in f :\n",
    "                #print(line)\n",
    "                if not line.strip():continue \n",
    "                if(cmpt>10):\n",
    "                    for n in noise :\n",
    "                        if(n in line):\n",
    "\n",
    "                            noise_bool=True\n",
    "                            break ;\n",
    "                if(noise_bool==True):\n",
    "                    break;\n",
    "                text_file.write(line)\n",
    "                cmpt+=1\n",
    "        text_file.close()        \n",
    "\n"
   ]
  },
  {
   "cell_type": "code",
   "execution_count": null,
   "metadata": {},
   "outputs": [],
   "source": [
    "data=[] ## We store all document in data \n",
    " \n",
    "for i in range(nb_document):\n",
    "\n",
    "        r_emplacement=\"/home/maza/Workspace/INF554/kaggle/node_information/without_noise/\"+str(i)+\"_important.txt\"\n",
    "\n",
    "        document=codecs.open(r_emplacement,\"r\",encoding=\"utf-8\")\n",
    "        text=document.read()\n",
    "        text=text.replace(\"\\n\", \" \")\n",
    "        data.append(text)\n",
    "        \n",
    "     "
   ]
  },
  {
   "cell_type": "code",
   "execution_count": 5,
   "metadata": {},
   "outputs": [],
   "source": [
    "##Saving data\n",
    "import json \n",
    "with open(\"data_tf_idf.json\",\"w\") as outfile:\n",
    "    json.dump(data,outfile)\n",
    "    \n",
    "from sklearn.feature_extraction.text import CountVectorizer\n",
    "count_vect = CountVectorizer()\n",
    "data_counts = count_vect.fit_transform(data)\n",
    "import pickle\n",
    "\n",
    "pickle.dump(data_counts,open(\"data_counts.pkl\",\"wb\"))\n",
    "\n",
    "from sklearn.feature_extraction.text import TfidfTransformer\n",
    "tfidf_transformer = TfidfTransformer()\n",
    "data_tfidf= tfidf_transformer.fit_transform(data_counts)\n",
    "\n",
    "pickle.dump(data_tfidf,open(\"data_tfidf.pkl\",\"wb\"))\n",
    "pickle.dump(count_vect,open(\"count_vect.pkl\",\"wb\"))\n",
    "feature_names =count_vect.get_feature_names()\n",
    "pickle.dump(feature_names,open(\"feature_names.pkl\",\"wb\"))"
   ]
  },
  {
   "cell_type": "code",
   "execution_count": 6,
   "metadata": {},
   "outputs": [],
   "source": [
    "## Tokenize et fit model\n",
    "from sklearn.feature_extraction.text import CountVectorizer\n",
    "count_vect = CountVectorizer()\n",
    "data_counts = count_vect.fit_transform(data)\n"
   ]
  },
  {
   "cell_type": "code",
   "execution_count": 9,
   "metadata": {},
   "outputs": [],
   "source": [
    "## Calculate tf_idf\n",
    "from sklearn.feature_extraction.text import TfidfTransformer\n",
    "tfidf_transformer = TfidfTransformer()\n",
    "data_tfidf= tfidf_transformer.fit_transform(data_counts) "
   ]
  },
  {
   "cell_type": "code",
   "execution_count": null,
   "metadata": {},
   "outputs": [],
   "source": [
    "feature_names =count_vect.get_feature_names()"
   ]
  },
  {
   "cell_type": "code",
   "execution_count": null,
   "metadata": {},
   "outputs": [],
   "source": [
    "## Calculate the cos_similarities of text \n",
    "from sklearn.metrics.pairwise import cosine_similarity\n",
    " \n",
    "cos=cosine_similarity(data_tfidf,Y=None)\n",
    "\n"
   ]
  }
 ],
 "metadata": {
  "kernelspec": {
   "display_name": "Python 3",
   "language": "python",
   "name": "python3"
  },
  "language_info": {
   "codemirror_mode": {
    "name": "ipython",
    "version": 3
   },
   "file_extension": ".py",
   "mimetype": "text/x-python",
   "name": "python",
   "nbconvert_exporter": "python",
   "pygments_lexer": "ipython3",
   "version": "3.7.3"
  }
 },
 "nbformat": 4,
 "nbformat_minor": 2
}
