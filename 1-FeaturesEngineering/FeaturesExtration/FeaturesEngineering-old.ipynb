{
 "cells": [
  {
   "cell_type": "code",
   "execution_count": 1,
   "metadata": {},
   "outputs": [],
   "source": [
    "import networkx as nx\n",
    "import csv\n",
    "import numpy as np\n",
    "import pandas as pd\n",
    "import pandas_profiling as pp\n",
    "from matplotlib import pyplot as plt\n",
    "from sklearn.linear_model import LogisticRegression\n",
    "from sklearn.metrics import roc_curve, roc_auc_score\n",
    "from sklearn.model_selection import train_test_split\n",
    "from sklearn.utils import shuffle\n",
    "from tqdm import tqdm"
   ]
  },
  {
   "cell_type": "markdown",
   "metadata": {},
   "source": [
    "Load Training data and building graph"
   ]
  },
  {
   "cell_type": "code",
   "execution_count": 2,
   "metadata": {},
   "outputs": [],
   "source": [
    "training_set = []\n",
    "G = nx.DiGraph()\n",
    "with open(\"training.txt\", \"r\") as f:\n",
    "    for line in f:\n",
    "        line = line.split()\n",
    "        training_set.append(line)\n",
    "        G.add_nodes_from(line[:2])\n",
    "        if line[2]=='1':\n",
    "            G.add_edge(line[0], line[1])\n",
    "        \n",
    "training_set = np.array(training_set)"
   ]
  },
  {
   "cell_type": "code",
   "execution_count": 11,
   "metadata": {},
   "outputs": [],
   "source": [
    "testing_set = []\n",
    "with open(\"testing.txt\", \"r\") as f:\n",
    "    for line in f:\n",
    "        line = line.split()\n",
    "        testing_set.append(line)\n",
    "        \n",
    "testing_set = np.array(testing_set)"
   ]
  },
  {
   "cell_type": "markdown",
   "metadata": {},
   "source": [
    "# Features engineering"
   ]
  },
  {
   "cell_type": "code",
   "execution_count": 4,
   "metadata": {},
   "outputs": [
    {
     "name": "stdout",
     "output_type": "stream",
     "text": [
      "preparing pagerank\n",
      "->.....OK\n",
      "preparing weakly_connected_components\n",
      "->.....OK\n",
      "preparing katz\n",
      "->.....OK\n",
      "preparing hits\n",
      "->.....OK\n",
      "preparing weight\n"
     ]
    }
   ],
   "source": [
    "precompute = {}\n",
    "print(\"preparing pagerank\")\n",
    "precompute[\"pr\"] = nx.pagerank(G, alpha=0.85)\n",
    "precompute[\"mean_pr\"] = float(sum(precompute[\"pr\"].values())) / len(precompute[\"pr\"])\n",
    "print(\"->.....OK\")\n",
    "\n",
    "print(\"preparing weakly_connected_components\")\n",
    "precompute[\"wcc\"] = list(nx.weakly_connected_components(G)) #getting weekly connected edges from graph\n",
    "print(\"->.....OK\")\n",
    "\n",
    "print(\"preparing katz\")\n",
    "precompute[\"katz\"] = nx.katz.katz_centrality(G,alpha=0.005,beta=1)\n",
    "precompute[\"mean_katz\"] = float(sum(precompute[\"katz\"].values())) / len(precompute[\"katz\"])\n",
    "print(\"->.....OK\")\n",
    "\n",
    "print(\"preparing hits\")\n",
    "precompute[\"hits\"] = nx.hits(G, max_iter=100, tol=1e-08, nstart=None, normalized=True)\n",
    "print(\"->.....OK\")\n",
    "\n",
    "#weight for source and destination of each link\n",
    "print(\"preparing weight\")\n",
    "precompute[\"Weight_in\"] = {}\n",
    "precompute[\"Weight_out\"] = {}\n",
    "for i in  G.nodes():\n",
    "    s1=set(G.predecessors(i))\n",
    "    w_in = 1.0/(np.sqrt(1+len(s1)))\n",
    "    precompute[\"Weight_in\"][i]=w_in\n",
    "\n",
    "    s2=set(G.successors(i))\n",
    "    w_out = 1.0/(np.sqrt(1+len(s2)))\n",
    "    precompute[\"Weight_out\"][i]=w_out\n",
    "\n",
    "#for imputing with mean\n",
    "precompute[\"mean_weight_in\"] = np.mean(list(precompute[\"Weight_in\"] .values()))\n",
    "precompute[\"mean_weight_out\"] = np.mean(list(precompute[\"Weight_out\"] .values()))\n",
    "\n"
   ]
  },
  {
   "cell_type": "code",
   "execution_count": 5,
   "metadata": {},
   "outputs": [],
   "source": [
    "class GraphExtractedFeatures:\n",
    "      \n",
    "    def __init__(self, G, precom):\n",
    "        self.G = G\n",
    "        self.undir_G = nx.to_undirected(G)\n",
    "        self.compute_degree_avg()\n",
    "        \n",
    "        self.pr = precom[\"pr\"]\n",
    "        self.mean_pr = precom[\"mean_pr\"]\n",
    "        \n",
    "        self.wcc = precom[\"wcc\"]\n",
    "        \n",
    "        self.katz = precom[\"katz\"]\n",
    "        self.mean_katz = precom[\"mean_katz\"]\n",
    "        \n",
    "        self.hits = precom[\"hits\"]\n",
    "        \n",
    "        #weight for source and destination of each link\n",
    "        self.Weight_in = precom[\"Weight_in\"]\n",
    "        self.Weight_out = precom[\"Weight_out\"]\n",
    "\n",
    "        #for imputing with mean\n",
    "        self.mean_weight_in = precom[\"mean_weight_in\"]\n",
    "        self.mean_weight_out = precom[\"mean_weight_out\"]\n",
    "    \n",
    "    def set_features(self, F):\n",
    "        self.features = F\n",
    "\n",
    "    def compute_degree_avg(self):\n",
    "        G_N_degrees = list(nx.degree(self.undir_G, self.undir_G.nodes()))\n",
    "        self.degree_avg = sum([G_N_degrees[i][1] for i in range(len(G_N_degrees))])/len(G_N_degrees)\n",
    "    \n",
    "    def getCN_nodes(self, nodes):\n",
    "        return list(set(self.undir_G.neighbors(nodes[0])) & set(self.undir_G.neighbors(nodes[1])))\n",
    "        \n",
    "    \"\"\" == Features for undirected Graph == \"\"\"\n",
    "    def _cn(self, nodes):\n",
    "        return len(self.CN_nodes)\n",
    "        \n",
    "    def _aa(self, nodes):\n",
    "        if len(self.CN_nodes)==0:\n",
    "            return 0\n",
    "        return sum(1/np.log([self.undir_G.degree(v) for v in self.CN_nodes if self.undir_G.degree(v)!=0 ]))\n",
    "    \n",
    "    def _ra(self, nodes):\n",
    "        if len(self.CN_nodes)==0:\n",
    "            return 0\n",
    "        return sum(1/np.array([self.undir_G.degree(v) for v in self.CN_nodes if self.undir_G.degree(v)!=0 ]))\n",
    "        \n",
    "    \"\"\" == Features for directed Graph == \"\"\"\n",
    "    def _s_out(self, nodes):\n",
    "        return self.kx_out\n",
    "    \n",
    "    def _t_out(self, nodes):\n",
    "        return self.ky_out\n",
    "    \n",
    "    def _s_in(self, nodes):\n",
    "        return self.kx_in\n",
    "    \n",
    "    def _t_in(self, nodes):\n",
    "        return self.ky_in\n",
    "    \n",
    "    def _st_inter_out(self, nodes):\n",
    "        return len(self.inter_out)\n",
    "    \n",
    "    def _st_inter_in(self, nodes):\n",
    "        return len(self.inter_in)\n",
    "    \n",
    "    def _jc_out(self, nodes):\n",
    "        if len(self.union_out)==0:\n",
    "            return 0\n",
    "        return len(self.inter_out)/len(self.union_out)\n",
    "    \n",
    "    def _jc_in(self, nodes):\n",
    "        if len(self.union_in)==0:\n",
    "            return 0\n",
    "        return len(self.inter_in)/len(self.union_in)\n",
    "    \n",
    "    def _cos_out(self, nodes):\n",
    "        if self.kx_out==0 or self.ky_out==0:\n",
    "            return 0\n",
    "        return len(self.inter_out)/(self.kx_out*self.ky_out)\n",
    "    \n",
    "    def _cos_in(self, nodes):\n",
    "        if self.kx_in==0 or self.ky_in==0:\n",
    "            return 0\n",
    "        return len(self.inter_in)/(self.kx_in*self.ky_in)\n",
    "       \n",
    "    def _aa_d(self, nodes):\n",
    "        return sum(1/np.log10([len(list(self.G.predecessors(v))) for v in self.inter_out if len(list(self.G.predecessors(v))) !=0 ]))\n",
    "    \n",
    "    def _follows_back(self,nodes):\n",
    "        if self.G.has_edge(nodes[1],nodes[0]):\n",
    "            return 1\n",
    "        else:\n",
    "            return 0\n",
    "    \n",
    "    def _sweight_out(self, nodes):\n",
    "        return self.Weight_out.get(nodes[0], self.mean_weight_out)\n",
    "    \n",
    "    def _tweight_in(self, nodes):\n",
    "        return self.Weight_in.get(nodes[1], self.mean_weight_in)\n",
    "    \n",
    "    def _weight_f1(self, nodes):\n",
    "        return self._sweight_out(nodes) + self._tweight_in(nodes)\n",
    "    \n",
    "    def _weight_f2(self, nodes):\n",
    "        return self._sweight_out(nodes) * self._tweight_in(nodes)\n",
    "    \n",
    "    def _pr_s(self, nodes):\n",
    "        return self.pr.get(nodes[0])\n",
    "    \n",
    "    def _pr_t(self, nodes):\n",
    "        return self.pr.get(nodes[1])\n",
    "    \n",
    "    def _katz_s(self, nodes):\n",
    "        return self.katz.get(nodes[0])\n",
    "    \n",
    "    def _katz_t(self, nodes):\n",
    "        return self.katz.get(nodes[1])\n",
    "    \n",
    "    def _hubs_s(self, nodes):\n",
    "        return self.hits[0].get(nodes[0])\n",
    "    \n",
    "    def _hubs_t(self, nodes):\n",
    "        return self.hits[0].get(nodes[1])\n",
    "    \n",
    "    def _auto_s(self, nodes):\n",
    "        return self.hits[1].get(nodes[0])\n",
    "    \n",
    "    def _auto_t(self, nodes):\n",
    "        return self.hits[1].get(nodes[1])\n",
    "    \n",
    "    def _pa(self, nodes):\n",
    "        return self.kx_in*self.ky_in\n",
    "    \n",
    "    def _ded(self, nodes):\n",
    "        if len(self.Ax)==0:\n",
    "            return 0\n",
    "        return len(set(self.Ax) & set(self.Dy))/len(self.Ax)\n",
    "    \n",
    "    def _ind(self, nodes):\n",
    "        if len(self.Dx)==0:\n",
    "            return 0\n",
    "        return len(set(self.Dx) & set(self.Dy))/len(self.Dx)\n",
    "    \n",
    "    def _ded_log(self, nodes):\n",
    "        if len(self.Ax)==0:\n",
    "            return 0\n",
    "        return len(set(self.Ax) & set(self.Ay)) * np.log(len(self.Ax)) / len(self.Ax)\n",
    "\n",
    "    def _ind_log(self, nodes):\n",
    "        if len(self.Dx)==0:\n",
    "            return 0\n",
    "        return len(set(self.Dx) & set(self.Dy)) * np.log(len(self.Dx)) / len(self.Dx)\n",
    "    \n",
    "    def _inf(self, nodes):\n",
    "        return self._ded(nodes) + self._ded(nodes)\n",
    "\n",
    "    def _inf_log(self, nodes):\n",
    "        return self._ded_log(nodes) + self._ind_log(nodes)\n",
    "\n",
    "    def hierachical(self, name, nodes):\n",
    "        return getattr(self, '_'+name)(nodes) if len(self.Dx)>len(self.Dy) else 0 \n",
    "    \n",
    "    def getFeatures(self, nodes):\n",
    "        self.CN_nodes = self.getCN_nodes(nodes)\n",
    "        \n",
    "        self.kx_out = len(list(self.G.successors(nodes[0])))\n",
    "        self.ky_out = len(list(self.G.successors(nodes[1])))\n",
    "        self.inter_out = list(set(self.G.successors(nodes[0])) & set(self.G.successors(nodes[1])))\n",
    "        self.union_out = list(set(self.G.successors(nodes[0])) | set(self.G.successors(nodes[1])))\n",
    "        \n",
    "        self.kx_in = len(list(self.G.predecessors(nodes[0])))\n",
    "        self.ky_in = len(list(self.G.predecessors(nodes[1])))\n",
    "        self.inter_in = list(set(self.G.predecessors(nodes[0])) & set(self.G.predecessors(nodes[1])))\n",
    "        self.union_in = list(set(self.G.predecessors(nodes[0])) | set(self.G.predecessors(nodes[1])))\n",
    "        \n",
    "        self.CN_nb = self._cn(nodes)\n",
    "        self.kx = self.undir_G.degree(nodes[0])\n",
    "        self.Dx = sorted(self.G.predecessors(nodes[0]))\n",
    "        self.Ax = sorted(self.G.successors(nodes[0]))\n",
    "        \n",
    "        self.ky = self.undir_G.degree(nodes[1])\n",
    "        self.Dy = sorted(self.G.predecessors(nodes[1]))\n",
    "        self.Ay = sorted(self.G.successors(nodes[1]))\n",
    "        ft_directed = [getattr(self, '_'+name)(nodes) for name in self.features[\"directed\"]]\n",
    "        ft_hierachical = [self.hierachical(name,nodes) for name in self.features[\"hierachical\"]]\n",
    "        return np.array(ft_directed+ft_hierachical)"
   ]
  },
  {
   "cell_type": "code",
   "execution_count": 6,
   "metadata": {},
   "outputs": [],
   "source": [
    "GF = GraphExtractedFeatures(G, precompute)"
   ]
  },
  {
   "cell_type": "code",
   "execution_count": 7,
   "metadata": {},
   "outputs": [],
   "source": [
    "features = {\"directed\":[\"weight_f1\",\"pr_t\", \"auto_t\", \"weight_f2\",\n",
    "                        \"s_out\", \"aa_d\", \"hubs_s\", \"jc_in\", \"jc_out\",\"cos_out\", \"cos_in\",\"hubs_t\",\n",
    "                        \"cos_out\", \"cos_in\", \"st_inter_in\", \n",
    "                        \"pr_s\", \"pr_t\", \"t_in\", \"auto_s\", \"pa\", \"ded\", \"ind\",\n",
    "                        \"inf\", \"inf_log\", \"katz_s\", \"katz_t\", \"st_inter_out\", \"sweight_out\", \"tweight_in\", 'cn',\n",
    "                        'ra'\n",
    "                       ],\n",
    "            \n",
    "            \"hierachical\":[\"ra\", \"aa\"]}\n",
    "GF.set_features(features)"
   ]
  },
  {
   "cell_type": "code",
   "execution_count": 8,
   "metadata": {},
   "outputs": [
    {
     "name": "stderr",
     "output_type": "stream",
     "text": [
      "100%|██████████| 453797/453797 [09:23<00:00, 805.45it/s] \n"
     ]
    }
   ],
   "source": [
    "#embedding for 1 label edge\n",
    "X = []\n",
    "for i in tqdm(range(training_set.shape[0])):\n",
    "    X.append(GF.getFeatures(training_set[i,:2]))\n",
    "X = np.vstack(X)  "
   ]
  },
  {
   "cell_type": "code",
   "execution_count": 12,
   "metadata": {},
   "outputs": [
    {
     "name": "stderr",
     "output_type": "stream",
     "text": [
      "100%|██████████| 113450/113450 [02:22<00:00, 797.84it/s] \n"
     ]
    }
   ],
   "source": [
    "test = []\n",
    "for i in tqdm(range(len(testing_set))):\n",
    "    test.append(GF.getFeatures(testing_set[i]))\n",
    "test = np.vstack(test)  "
   ]
  },
  {
   "cell_type": "code",
   "execution_count": 16,
   "metadata": {},
   "outputs": [
    {
     "data": {
      "text/plain": [
       "(113450, 33)"
      ]
     },
     "execution_count": 16,
     "metadata": {},
     "output_type": "execute_result"
    }
   ],
   "source": [
    "test.shape"
   ]
  },
  {
   "cell_type": "code",
   "execution_count": 10,
   "metadata": {},
   "outputs": [
    {
     "data": {
      "text/plain": [
       "array([1, 0, 1, ..., 0, 1, 0])"
      ]
     },
     "execution_count": 10,
     "metadata": {},
     "output_type": "execute_result"
    }
   ],
   "source": [
    "y = training_set[:,2]\n",
    "y = np.array([int(x) for x in y ])\n",
    "y"
   ]
  },
  {
   "cell_type": "code",
   "execution_count": 20,
   "metadata": {},
   "outputs": [],
   "source": [
    "idx_0 = np.where(y==0)[0]\n",
    "idx_1 = np.where(y==1)[0]"
   ]
  },
  {
   "cell_type": "code",
   "execution_count": 22,
   "metadata": {},
   "outputs": [
    {
     "data": {
      "text/plain": [
       "(170174,)"
      ]
     },
     "execution_count": 22,
     "metadata": {},
     "output_type": "execute_result"
    }
   ],
   "source": [
    "idx_0.shape"
   ]
  },
  {
   "cell_type": "code",
   "execution_count": 25,
   "metadata": {},
   "outputs": [
    {
     "data": {
      "text/plain": [
       "100"
      ]
     },
     "execution_count": 25,
     "metadata": {},
     "output_type": "execute_result"
    }
   ],
   "source": [
    "from sklearn.model_selection import KFold\n",
    "kf = KFold(n_splits=100)\n",
    "kf.get_n_splits(idx_0)"
   ]
  },
  {
   "cell_type": "code",
   "execution_count": 28,
   "metadata": {},
   "outputs": [
    {
     "name": "stdout",
     "output_type": "stream",
     "text": [
      "[  4538   4539   4540 ... 453794 453795 453796]\n",
      "[   0    1    2 ... 4535 4536 4537]\n",
      "[     0      1      2 ... 453794 453795 453796]\n",
      "[4538 4539 4540 ... 9073 9074 9075]\n",
      "[     0      1      2 ... 453794 453795 453796]\n",
      "[ 9076  9077  9078 ... 13611 13612 13613]\n",
      "[     0      1      2 ... 453794 453795 453796]\n",
      "[13614 13615 13616 ... 18149 18150 18151]\n",
      "[     0      1      2 ... 453794 453795 453796]\n",
      "[18152 18153 18154 ... 22687 22688 22689]\n",
      "[     0      1      2 ... 453794 453795 453796]\n",
      "[22690 22691 22692 ... 27225 27226 27227]\n",
      "[     0      1      2 ... 453794 453795 453796]\n",
      "[27228 27229 27230 ... 31763 31764 31765]\n",
      "[     0      1      2 ... 453794 453795 453796]\n",
      "[31766 31767 31768 ... 36301 36302 36303]\n",
      "[     0      1      2 ... 453794 453795 453796]\n",
      "[36304 36305 36306 ... 40839 40840 40841]\n",
      "[     0      1      2 ... 453794 453795 453796]\n",
      "[40842 40843 40844 ... 45377 45378 45379]\n",
      "[     0      1      2 ... 453794 453795 453796]\n",
      "[45380 45381 45382 ... 49915 49916 49917]\n",
      "[     0      1      2 ... 453794 453795 453796]\n",
      "[49918 49919 49920 ... 54453 54454 54455]\n",
      "[     0      1      2 ... 453794 453795 453796]\n",
      "[54456 54457 54458 ... 58991 58992 58993]\n",
      "[     0      1      2 ... 453794 453795 453796]\n",
      "[58994 58995 58996 ... 63529 63530 63531]\n",
      "[     0      1      2 ... 453794 453795 453796]\n",
      "[63532 63533 63534 ... 68067 68068 68069]\n",
      "[     0      1      2 ... 453794 453795 453796]\n",
      "[68070 68071 68072 ... 72605 72606 72607]\n",
      "[     0      1      2 ... 453794 453795 453796]\n",
      "[72608 72609 72610 ... 77143 77144 77145]\n",
      "[     0      1      2 ... 453794 453795 453796]\n",
      "[77146 77147 77148 ... 81681 81682 81683]\n",
      "[     0      1      2 ... 453794 453795 453796]\n",
      "[81684 81685 81686 ... 86219 86220 86221]\n",
      "[     0      1      2 ... 453794 453795 453796]\n",
      "[86222 86223 86224 ... 90757 90758 90759]\n",
      "[     0      1      2 ... 453794 453795 453796]\n",
      "[90760 90761 90762 ... 95295 95296 95297]\n",
      "[     0      1      2 ... 453794 453795 453796]\n",
      "[95298 95299 95300 ... 99833 99834 99835]\n",
      "[     0      1      2 ... 453794 453795 453796]\n",
      "[ 99836  99837  99838 ... 104371 104372 104373]\n",
      "[     0      1      2 ... 453794 453795 453796]\n",
      "[104374 104375 104376 ... 108909 108910 108911]\n",
      "[     0      1      2 ... 453794 453795 453796]\n",
      "[108912 108913 108914 ... 113447 113448 113449]\n",
      "[     0      1      2 ... 453794 453795 453796]\n",
      "[113450 113451 113452 ... 117985 117986 117987]\n",
      "[     0      1      2 ... 453794 453795 453796]\n",
      "[117988 117989 117990 ... 122523 122524 122525]\n",
      "[     0      1      2 ... 453794 453795 453796]\n",
      "[122526 122527 122528 ... 127061 127062 127063]\n",
      "[     0      1      2 ... 453794 453795 453796]\n",
      "[127064 127065 127066 ... 131599 131600 131601]\n",
      "[     0      1      2 ... 453794 453795 453796]\n",
      "[131602 131603 131604 ... 136137 136138 136139]\n",
      "[     0      1      2 ... 453794 453795 453796]\n",
      "[136140 136141 136142 ... 140675 140676 140677]\n",
      "[     0      1      2 ... 453794 453795 453796]\n",
      "[140678 140679 140680 ... 145213 145214 145215]\n",
      "[     0      1      2 ... 453794 453795 453796]\n",
      "[145216 145217 145218 ... 149751 149752 149753]\n",
      "[     0      1      2 ... 453794 453795 453796]\n",
      "[149754 149755 149756 ... 154289 154290 154291]\n",
      "[     0      1      2 ... 453794 453795 453796]\n",
      "[154292 154293 154294 ... 158827 158828 158829]\n",
      "[     0      1      2 ... 453794 453795 453796]\n",
      "[158830 158831 158832 ... 163365 163366 163367]\n",
      "[     0      1      2 ... 453794 453795 453796]\n",
      "[163368 163369 163370 ... 167903 167904 167905]\n",
      "[     0      1      2 ... 453794 453795 453796]\n",
      "[167906 167907 167908 ... 172441 172442 172443]\n",
      "[     0      1      2 ... 453794 453795 453796]\n",
      "[172444 172445 172446 ... 176979 176980 176981]\n",
      "[     0      1      2 ... 453794 453795 453796]\n",
      "[176982 176983 176984 ... 181517 181518 181519]\n",
      "[     0      1      2 ... 453794 453795 453796]\n",
      "[181520 181521 181522 ... 186055 186056 186057]\n",
      "[     0      1      2 ... 453794 453795 453796]\n",
      "[186058 186059 186060 ... 190593 190594 190595]\n",
      "[     0      1      2 ... 453794 453795 453796]\n",
      "[190596 190597 190598 ... 195131 195132 195133]\n",
      "[     0      1      2 ... 453794 453795 453796]\n",
      "[195134 195135 195136 ... 199669 199670 199671]\n",
      "[     0      1      2 ... 453794 453795 453796]\n",
      "[199672 199673 199674 ... 204207 204208 204209]\n",
      "[     0      1      2 ... 453794 453795 453796]\n",
      "[204210 204211 204212 ... 208745 208746 208747]\n",
      "[     0      1      2 ... 453794 453795 453796]\n",
      "[208748 208749 208750 ... 213283 213284 213285]\n",
      "[     0      1      2 ... 453794 453795 453796]\n",
      "[213286 213287 213288 ... 217821 217822 217823]\n",
      "[     0      1      2 ... 453794 453795 453796]\n",
      "[217824 217825 217826 ... 222359 222360 222361]\n",
      "[     0      1      2 ... 453794 453795 453796]\n",
      "[222362 222363 222364 ... 226897 226898 226899]\n",
      "[     0      1      2 ... 453794 453795 453796]\n",
      "[226900 226901 226902 ... 231435 231436 231437]\n",
      "[     0      1      2 ... 453794 453795 453796]\n",
      "[231438 231439 231440 ... 235973 235974 235975]\n",
      "[     0      1      2 ... 453794 453795 453796]\n",
      "[235976 235977 235978 ... 240511 240512 240513]\n",
      "[     0      1      2 ... 453794 453795 453796]\n",
      "[240514 240515 240516 ... 245049 245050 245051]\n",
      "[     0      1      2 ... 453794 453795 453796]\n",
      "[245052 245053 245054 ... 249587 249588 249589]\n",
      "[     0      1      2 ... 453794 453795 453796]\n",
      "[249590 249591 249592 ... 254125 254126 254127]\n",
      "[     0      1      2 ... 453794 453795 453796]\n",
      "[254128 254129 254130 ... 258663 258664 258665]\n",
      "[     0      1      2 ... 453794 453795 453796]\n",
      "[258666 258667 258668 ... 263201 263202 263203]\n",
      "[     0      1      2 ... 453794 453795 453796]\n",
      "[263204 263205 263206 ... 267739 267740 267741]\n",
      "[     0      1      2 ... 453794 453795 453796]\n",
      "[267742 267743 267744 ... 272277 272278 272279]\n",
      "[     0      1      2 ... 453794 453795 453796]\n",
      "[272280 272281 272282 ... 276815 276816 276817]\n",
      "[     0      1      2 ... 453794 453795 453796]\n",
      "[276818 276819 276820 ... 281353 281354 281355]\n",
      "[     0      1      2 ... 453794 453795 453796]\n",
      "[281356 281357 281358 ... 285891 285892 285893]\n",
      "[     0      1      2 ... 453794 453795 453796]\n",
      "[285894 285895 285896 ... 290429 290430 290431]\n",
      "[     0      1      2 ... 453794 453795 453796]\n",
      "[290432 290433 290434 ... 294967 294968 294969]\n",
      "[     0      1      2 ... 453794 453795 453796]\n",
      "[294970 294971 294972 ... 299505 299506 299507]\n",
      "[     0      1      2 ... 453794 453795 453796]\n",
      "[299508 299509 299510 ... 304043 304044 304045]\n",
      "[     0      1      2 ... 453794 453795 453796]\n",
      "[304046 304047 304048 ... 308581 308582 308583]\n",
      "[     0      1      2 ... 453794 453795 453796]\n",
      "[308584 308585 308586 ... 313119 313120 313121]\n",
      "[     0      1      2 ... 453794 453795 453796]\n",
      "[313122 313123 313124 ... 317657 317658 317659]\n",
      "[     0      1      2 ... 453794 453795 453796]\n",
      "[317660 317661 317662 ... 322195 322196 322197]\n",
      "[     0      1      2 ... 453794 453795 453796]\n",
      "[322198 322199 322200 ... 326733 326734 326735]\n",
      "[     0      1      2 ... 453794 453795 453796]\n",
      "[326736 326737 326738 ... 331271 331272 331273]\n",
      "[     0      1      2 ... 453794 453795 453796]\n",
      "[331274 331275 331276 ... 335809 335810 335811]\n",
      "[     0      1      2 ... 453794 453795 453796]\n",
      "[335812 335813 335814 ... 340347 340348 340349]\n",
      "[     0      1      2 ... 453794 453795 453796]\n",
      "[340350 340351 340352 ... 344885 344886 344887]\n",
      "[     0      1      2 ... 453794 453795 453796]\n",
      "[344888 344889 344890 ... 349423 349424 349425]\n",
      "[     0      1      2 ... 453794 453795 453796]\n",
      "[349426 349427 349428 ... 353961 353962 353963]\n",
      "[     0      1      2 ... 453794 453795 453796]\n",
      "[353964 353965 353966 ... 358499 358500 358501]\n",
      "[     0      1      2 ... 453794 453795 453796]\n",
      "[358502 358503 358504 ... 363037 363038 363039]\n",
      "[     0      1      2 ... 453794 453795 453796]\n",
      "[363040 363041 363042 ... 367575 367576 367577]\n",
      "[     0      1      2 ... 453794 453795 453796]\n",
      "[367578 367579 367580 ... 372113 372114 372115]\n",
      "[     0      1      2 ... 453794 453795 453796]\n",
      "[372116 372117 372118 ... 376651 376652 376653]\n",
      "[     0      1      2 ... 453794 453795 453796]\n",
      "[376654 376655 376656 ... 381189 381190 381191]\n",
      "[     0      1      2 ... 453794 453795 453796]\n",
      "[381192 381193 381194 ... 385727 385728 385729]\n",
      "[     0      1      2 ... 453794 453795 453796]\n",
      "[385730 385731 385732 ... 390265 390266 390267]\n",
      "[     0      1      2 ... 453794 453795 453796]\n",
      "[390268 390269 390270 ... 394803 394804 394805]\n",
      "[     0      1      2 ... 453794 453795 453796]\n",
      "[394806 394807 394808 ... 399341 399342 399343]\n",
      "[     0      1      2 ... 453794 453795 453796]\n",
      "[399344 399345 399346 ... 403879 403880 403881]\n",
      "[     0      1      2 ... 453794 453795 453796]\n",
      "[403882 403883 403884 ... 408417 408418 408419]\n",
      "[     0      1      2 ... 453794 453795 453796]\n",
      "[408420 408421 408422 ... 412955 412956 412957]\n",
      "[     0      1      2 ... 453794 453795 453796]\n",
      "[412958 412959 412960 ... 417493 417494 417495]\n",
      "[     0      1      2 ... 453794 453795 453796]\n",
      "[417496 417497 417498 ... 422031 422032 422033]\n",
      "[     0      1      2 ... 453794 453795 453796]\n",
      "[422034 422035 422036 ... 426569 426570 426571]\n",
      "[     0      1      2 ... 453794 453795 453796]\n",
      "[426572 426573 426574 ... 431107 431108 431109]\n",
      "[     0      1      2 ... 453794 453795 453796]\n",
      "[431110 431111 431112 ... 435645 435646 435647]\n",
      "[     0      1      2 ... 453794 453795 453796]\n",
      "[435648 435649 435650 ... 440183 440184 440185]\n",
      "[     0      1      2 ... 453794 453795 453796]\n",
      "[440186 440187 440188 ... 444720 444721 444722]\n",
      "[     0      1      2 ... 453794 453795 453796]\n",
      "[444723 444724 444725 ... 449257 449258 449259]\n",
      "[     0      1      2 ... 449257 449258 449259]\n",
      "[449260 449261 449262 ... 453794 453795 453796]\n"
     ]
    }
   ],
   "source": [
    "for train_index, test_index in kf.split(X):\n",
    "    print(train_index), print(test_index)"
   ]
  },
  {
   "cell_type": "code",
   "execution_count": 26,
   "metadata": {},
   "outputs": [],
   "source": [
    "np.save(\"X.npy\", X)\n",
    "np.save('y.npy', y)\n"
   ]
  },
  {
   "cell_type": "code",
   "execution_count": 17,
   "metadata": {},
   "outputs": [],
   "source": [
    "np.save('X_test_old.npy', test)"
   ]
  },
  {
   "cell_type": "markdown",
   "metadata": {},
   "source": [
    "split data"
   ]
  },
  {
   "cell_type": "code",
   "execution_count": 24,
   "metadata": {},
   "outputs": [],
   "source": [
    "test = []\n",
    "for i in range(len(testing_set)):\n",
    "    test.append(GF.getFeatures(testing_set[i]))\n",
    "test = np.vstack(test)  "
   ]
  },
  {
   "cell_type": "code",
   "execution_count": 25,
   "metadata": {},
   "outputs": [],
   "source": [
    "np.save(\"test.npy\", test)"
   ]
  },
  {
   "cell_type": "code",
   "execution_count": 9,
   "metadata": {},
   "outputs": [],
   "source": [
    "# pred = model.predict(test[:,:-3]).tolist()\n",
    "predstr = [str(pred[i]) for i in range(len(pred))]"
   ]
  },
  {
   "cell_type": "code",
   "execution_count": 45,
   "metadata": {},
   "outputs": [],
   "source": [
    "predstr = [str(pred[i]) for i in range(len(pred))]\n",
    "predictions = zip(range(len(predstr)), predstr)\n",
    "# Write the output in the format required by Kaggle\n",
    "with open(\"predictions.csv\",\"w\") as pred:\n",
    "    csv_out = csv.writer(pred)\n",
    "    csv_out.writerow(['id','predicted'])\n",
    "    for row in predictions:\n",
    "        csv_out.writerow(row) "
   ]
  },
  {
   "cell_type": "code",
   "execution_count": 18,
   "metadata": {},
   "outputs": [],
   "source": [
    "import pickle\n",
    "loaded_model = pickle.load(open(\"/home/kanva/Workspace/3A/INF554-ML1/Challenge/2-ModelEvaluation/result/handcraft/Random_Forest.sav\", 'rb'))"
   ]
  },
  {
   "cell_type": "code",
   "execution_count": 19,
   "metadata": {},
   "outputs": [],
   "source": [
    "test = np.load('/home/kanva/Workspace/3A/INF554-ML1/Challenge/2-ModelEvaluation/data_old/X_test.npy')"
   ]
  },
  {
   "cell_type": "code",
   "execution_count": 22,
   "metadata": {},
   "outputs": [
    {
     "data": {
      "text/plain": [
       "(113450, 26)"
      ]
     },
     "execution_count": 22,
     "metadata": {},
     "output_type": "execute_result"
    }
   ],
   "source": [
    "test.shape"
   ]
  },
  {
   "cell_type": "code",
   "execution_count": 20,
   "metadata": {},
   "outputs": [
    {
     "ename": "NameError",
     "evalue": "name 'scaler' is not defined",
     "output_type": "error",
     "traceback": [
      "\u001b[0;31m---------------------------------------------------------------------------\u001b[0m",
      "\u001b[0;31mNameError\u001b[0m                                 Traceback (most recent call last)",
      "\u001b[0;32m<ipython-input-20-78afb2196814>\u001b[0m in \u001b[0;36m<module>\u001b[0;34m()\u001b[0m\n\u001b[0;32m----> 1\u001b[0;31m \u001b[0mpred\u001b[0m \u001b[0;34m=\u001b[0m \u001b[0mloaded_model\u001b[0m\u001b[0;34m.\u001b[0m\u001b[0mpredict\u001b[0m\u001b[0;34m(\u001b[0m\u001b[0mscaler\u001b[0m\u001b[0;34m.\u001b[0m\u001b[0mtransform\u001b[0m\u001b[0;34m(\u001b[0m\u001b[0mtest\u001b[0m\u001b[0;34m[\u001b[0m\u001b[0;34m:\u001b[0m\u001b[0;34m,\u001b[0m\u001b[0;34m:\u001b[0m\u001b[0;34m-\u001b[0m\u001b[0;36m2\u001b[0m\u001b[0;34m]\u001b[0m\u001b[0;34m)\u001b[0m\u001b[0;34m)\u001b[0m\u001b[0;34m\u001b[0m\u001b[0;34m\u001b[0m\u001b[0m\n\u001b[0m",
      "\u001b[0;31mNameError\u001b[0m: name 'scaler' is not defined"
     ]
    }
   ],
   "source": [
    "pred = loaded_model.predict(test[:,:-2])"
   ]
  },
  {
   "cell_type": "code",
   "execution_count": 44,
   "metadata": {},
   "outputs": [
    {
     "data": {
      "text/plain": [
       "array([1, 0, 0, ..., 0, 0, 0])"
      ]
     },
     "execution_count": 44,
     "metadata": {},
     "output_type": "execute_result"
    }
   ],
   "source": [
    "pred"
   ]
  }
 ],
 "metadata": {
  "kernelspec": {
   "display_name": "Python 3",
   "language": "python",
   "name": "python3"
  },
  "language_info": {
   "codemirror_mode": {
    "name": "ipython",
    "version": 3
   },
   "file_extension": ".py",
   "mimetype": "text/x-python",
   "name": "python",
   "nbconvert_exporter": "python",
   "pygments_lexer": "ipython3",
   "version": "3.6.7"
  },
  "nteract": {
   "version": "0.15.0"
  }
 },
 "nbformat": 4,
 "nbformat_minor": 2
}
